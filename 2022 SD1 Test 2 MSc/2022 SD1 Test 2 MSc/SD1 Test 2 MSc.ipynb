{
 "cells": [
  {
   "cell_type": "markdown",
   "id": "eb3a38f5",
   "metadata": {},
   "source": [
    "LAST UPDATED: 29th April 2022 by Arturo Araujo and Yuanlin Gu\n",
    "\n",
    "# Software Development 1 MSc Test 2\n",
    "\n",
    "\n",
    "## Submission date: 1 hour and 30 minutes after first access online via Moodle. \n",
    "\n",
    "Contribution: 20% of the total module mark.\n",
    "\n",
    "Aim: This test will be used to gauge your learning throughout the second part of your Software Development 1 course. Make sure you read all the questions before you begin to help you better allocate your time.\n",
    "\n",
    "## Submission Requirements: Please fill the answers directly into this .ipynb document and save your submission as a .ipynb file. You must submit a single .ipynb file with your name and full answers. Good luck!"
   ]
  },
  {
   "cell_type": "code",
   "execution_count": null,
   "id": "8d4b0042",
   "metadata": {},
   "outputs": [],
   "source": [
    "# Student Name: ...answer here...\n",
    "# Course: CMP020C101A"
   ]
  },
  {
   "cell_type": "markdown",
   "id": "0bc19895",
   "metadata": {},
   "source": [
    "## 1. Multiple choice questions: (3 presented, 1 point each, total 3 points) \n",
    "please select the **single true** statement (simply write te correct letter in the answer box)\n",
    "\n",
    "### 1.1 Functions in Python:\n",
    "\n",
    "A) Functions are organised codes that perform many task with a single input.\n",
    "\n",
    "B) A function is a block of code which only runs when it is called.\n",
    "\n",
    "C) Functions take in a single variable and change its global value.\n",
    "\n",
    "D) Functions always take in arguments and always return data as a result."
   ]
  },
  {
   "cell_type": "code",
   "execution_count": null,
   "id": "08ec79bf",
   "metadata": {},
   "outputs": [],
   "source": [
    "# 1.1 answer here (letter only)\n",
    "#B\n",
    "#"
   ]
  },
  {
   "cell_type": "markdown",
   "id": "c434a103",
   "metadata": {},
   "source": [
    "### 1.2 Suites of code in Python: \n",
    "\n",
    "A) a statement or group of statements that make up a block of code is known as a suite. \n",
    "\n",
    "B) an individual statement that begins with a keyword and terminates with a colon (:)\n",
    "\n",
    "C) lines of code that are indented at different different levels\n",
    "\n",
    "D) a group of statements that are not part of any other statement\n"
   ]
  },
  {
   "cell_type": "code",
   "execution_count": null,
   "id": "21d60537",
   "metadata": {},
   "outputs": [],
   "source": [
    "# 1.2 answer here (letter only)\n",
    "#D\n",
    "#"
   ]
  },
  {
   "cell_type": "markdown",
   "id": "b41b38d5",
   "metadata": {},
   "source": [
    "### 1.3 Python's Standard Library: \n",
    "\n",
    "A) Python's standard library describes the exact syntax and semantics of the Python language\n",
    "\n",
    "B) Python's standard library is an open source data analysis and manipulation tool built on top of the Python programming language\n",
    "\n",
    "C) Python's standard library provides you basic functions like print(), input(). and also provides you with basic data structures of python such as lists, tuples and dictionaries.\n",
    "\n",
    "D) Python's standard library is a free and open-source software library for machine learning and artificial intelligence"
   ]
  },
  {
   "cell_type": "code",
   "execution_count": null,
   "id": "bb683bb2",
   "metadata": {},
   "outputs": [],
   "source": [
    "# 1.3 answer here (letter only)\n",
    "#\n",
    "#C"
   ]
  },
  {
   "cell_type": "markdown",
   "id": "9fdc8220",
   "metadata": {},
   "source": [
    "## 2. Fill in the blanks: (2 presented, 1 point each, total 2 points) \n",
    "\n",
    "### 2.1 Recursive vs Iterative (loop)\n",
    "The codes below show the implementation of iterative method of reversing a string.\n",
    "```\n",
    "def reverseString(string):\n",
    "  reverse = ''\n",
    "  length = len(string) - 1\n",
    "  while length >= 0:\n",
    "    reverse = reverse + string[length]\n",
    "    length = length - 1\n",
    "    \n",
    "  return reverse\n",
    "```\n",
    "Now if we want to solve the same problem by recursive method. See the code below and fill in the blank.\n",
    "```\n",
    "def reverseString(string):\n",
    "  # Base Case\n",
    "  if _________:\n",
    "    return string\n",
    "\n",
    "  # Recursive Case\n",
    "  else:\n",
    "    return reverseString(string[1:]) + string[0]\n",
    "```"
   ]
  },
  {
   "cell_type": "code",
   "execution_count": null,
   "id": "846ebe31",
   "metadata": {},
   "outputs": [],
   "source": [
    "# answer Question 2.1 here\n",
    "def reverseString(string):\n",
    "  # Base Case\n",
    "  if len(string) == 0:\n",
    "    return string\n",
    "\n",
    "  # Recursive Case\n",
    "  else:\n",
    "    return reverseString(string[1:]) + string[0]\n",
    "\n"
   ]
  },
  {
   "cell_type": "markdown",
   "id": "4ea22ccc",
   "metadata": {},
   "source": [
    "### 2.2 Absolute path vs Relative path\n",
    "Please refer to the file system as shown in figure below. Suppose you are currently located in **\"/University_of_Roehampton/School_of_Arts\"** and you want to open the file \"Dance_Performance.txt\" for reading. \n",
    "![question2.2.png](question2.2.png)\n",
    "By using absolute path, we can do \n",
    "```\n",
    "f = open(path, 'r')\n",
    "```\n",
    "where path = \"/University_of_Roehampton/School_of_Arts/Dance/Dance_Performance.txt\". Here if using relative path, ```path = \"__________\"```"
   ]
  },
  {
   "cell_type": "code",
   "execution_count": null,
   "id": "9d57ed68",
   "metadata": {},
   "outputs": [],
   "source": [
    "# answer Question 2.2 here\n",
    "import os\n",
    "current_dir = os.path.dirname(__file__) #<-- absolute dir the script is in\n",
    "rel_path = \"School_of_Arts/Dance/Dance_Performance.txt\"\n",
    "abs_file_path = os.path.join(current_dir, rel_path)\n",
    "\n"
   ]
  },
  {
   "cell_type": "markdown",
   "id": "34422181",
   "metadata": {},
   "source": [
    "### 3.  Make a function for the following Flowchart. Comment your program, identifying a) the key structures b) variables and c) instructions on how to exit the program (2 points)\n",
    "![title](question3.png)"
   ]
  },
  {
   "cell_type": "code",
   "execution_count": null,
   "id": "6d310ff3",
   "metadata": {},
   "outputs": [],
   "source": [
    "# Answer Question 3 here\n",
    "# Put your code here\n",
    "num = int(input(\"Enter a number: \"))\n",
    "while num != 0:\n",
    "   if num > 0:\n",
    "    print(\"That's a positive number\")\n",
    "    break       \n",
    "   else:\n",
    "    print(\"That's a positive number\")\n",
    "    break\n",
    "\n",
    "# Answer the following questions\n",
    "# a. What are the key structures we used in this program?\n",
    "# No key structure has been used in this program\n",
    "\n",
    "# b. What variables you have used in your code\n",
    "# Single varible 'num' is used which is of type integer\n",
    "\n",
    "# c. How to exit the program?\n",
    "#Using while loop for checking zero value will close, if num is not zero then after printing the message break \n",
    "#will end the program"
   ]
  },
  {
   "cell_type": "markdown",
   "id": "08be14dc",
   "metadata": {},
   "source": [
    "## 4. Complete the program (3 points)\n",
    "\n",
    "### In the UK we have four seasons throughout the year: spring, summer, fall and winter. For 2022, the first day of seasons are:\n",
    "![title](question4.png)\n",
    "\n",
    "### Complete a program that reads a month and day from the user. The user will enter the name of the month as a string, followed by the day within the month as an integer. Then your program should display the season associated with the date that was entered!"
   ]
  },
  {
   "cell_type": "code",
   "execution_count": null,
   "id": "cb383fa0",
   "metadata": {},
   "outputs": [],
   "source": [
    "# Answer Question 4 here\n",
    "\n",
    "# Function to determine the season associated with a date.\n",
    "def season_determine(m,d):\n",
    "    # Determine the season\n",
    "    if m == \"January\" or m == \"February\": \n",
    "        return \"Winter\"\n",
    "    elif m == \"March\": \n",
    "        if d < 20:\n",
    "            return \"Winter\" \n",
    "        else:\n",
    "            return \"Spring\" \n",
    "    elif m == \"April\" or m == \"May\":\n",
    "        return \"Spring\" \n",
    "    elif m == \"June\":\n",
    "        if d < 21:\n",
    "            return \"Spring\"\n",
    "        else:\n",
    "            return \"Summer\"\n",
    "    elif m == \"July\" or m == \"August\": \n",
    "        s = \"Summer\"\n",
    "    elif m == \"September\": \n",
    "        if d < 22:\n",
    "            return \"Summer\"\n",
    "        else:\n",
    "            return \"Fall\"\n",
    "    elif m == \"October\" or m == \"November\": \n",
    "        return \"Fall\"\n",
    "    elif m == \"December\": \n",
    "        if d < 21:\n",
    "            return \"Fall\"\n",
    "        else:\n",
    "            return \"Winter\"\n",
    "        \n",
    "def main():\n",
    "    # Read the date from the user\n",
    "    month =  input(\"Enter the name of the  month:\")\n",
    "    day   =  int (input (\"Enter the day number:\"))\n",
    "    \n",
    "    # Display the result\n",
    "    print(month,day, \"is in\", season_determine(month,day))\n",
    "  \n",
    "\n",
    "\n",
    "main()"
   ]
  },
  {
   "cell_type": "code",
   "execution_count": null,
   "id": "fda50c4f",
   "metadata": {},
   "outputs": [],
   "source": []
  },
  {
   "cell_type": "markdown",
   "id": "988777c8",
   "metadata": {},
   "source": [
    "### 5. Create a program (5 points)\n",
    "### Create a program that reads words from the user until the user enters a blank line. After the user enters a blank line your program should display each word entered by the user exactly once. The words should be displayed in the same order that they were first entered. For example, if the user enters: \n",
    "\n",
    "cat\n",
    "\n",
    "dog\n",
    "\n",
    "dog\n",
    "\n",
    "bird\n",
    "\n",
    "cat\n",
    "\n",
    "\n",
    "then your program should display: \n",
    "\n",
    "\n",
    "cat\n",
    "\n",
    "dog\n",
    "\n",
    "bird\n"
   ]
  },
  {
   "cell_type": "code",
   "execution_count": null,
   "id": "795c9dce",
   "metadata": {},
   "outputs": [],
   "source": [
    "# Answer Question 5 here\n",
    "\n",
    "lines = []\n",
    "while True:\n",
    "    l = input()\n",
    "    if l and l not in lines:\n",
    "        lines.append(l)\n",
    "    else:\n",
    "        break;\n",
    "\n",
    "# function to get unique values\n",
    "def unique(list1):\n",
    " \n",
    "    # initialize a null list\n",
    "    unique_list = []\n",
    "     \n",
    "    # traverse for all elements\n",
    "    for x in list1:\n",
    "        # check if exists in unique_list or not\n",
    "        if x not in unique_list:\n",
    "            unique_list.append(x)\n",
    "    # print list\n",
    "    for x in unique_list:\n",
    "        print (x + '\\n')     \n",
    "print('\\nUnique Values Printing starts!\\n')\n",
    "unique(lines) #Calling the funtion"
   ]
  },
  {
   "cell_type": "code",
   "execution_count": null,
   "id": "46ddc53b",
   "metadata": {},
   "outputs": [],
   "source": []
  },
  {
   "cell_type": "markdown",
   "id": "86efd70f",
   "metadata": {},
   "source": [
    "### 6. Program Debugging (5 points)\n",
    "\n",
    "### Saturday nights changed forever when Lotto was introduced back in 1994. Since then, it’s become the nation’s favourite game – played by millions in towns and cities across the country. In order to win the top prize in the National Lottery’s lotto, one must match all 6 numbers of a ticket to the 6 numbers between 1 and 59 that are drawn by the lottery organizer. Write a function that generates a random selection of 6 numbers for a lottery ticket, ensuring that the 6 numbers selected do not contain any duplicates. Finally, display the numbers in ascending order. "
   ]
  },
  {
   "cell_type": "code",
   "execution_count": null,
   "id": "b19652fc",
   "metadata": {},
   "outputs": [],
   "source": [
    "# Answer Question 6 here\n",
    "\n",
    "from random import randrange \n",
    "\n",
    "min_mum = 1 \n",
    "max_num = 59 \n",
    "lotto_nums = 6\n",
    "\n",
    "# Use a list to store the numbers on the ticket\n",
    "ticket_nums = []\n",
    "\n",
    "# Generate NUM NUMS random but distinct numbers \n",
    "for i in range(lotto_nums):\n",
    "    # Generate a number that isn’t already on the ticket\n",
    "    rand = randrange(min_mum, max_num + 1) \n",
    "    while rand in ticket_nums:\n",
    "        rand = randrange(min_mum, max_num + 1)\n",
    "        \n",
    "# Add the number to the ticket\n",
    "ticket_nums.append(rand)\n",
    "\n",
    "# Sort the numbers into ascending order and display them\n",
    "ticket_nums.sort()\n",
    "print(\"Your numbers are: \", end=\"\") \n",
    "for n in ticket_nums:\n",
    "    print(n, end=\" \") \n",
    "print()"
   ]
  },
  {
   "cell_type": "code",
   "execution_count": null,
   "id": "44ad848e",
   "metadata": {},
   "outputs": [],
   "source": []
  },
  {
   "cell_type": "code",
   "execution_count": null,
   "id": "044d3d10",
   "metadata": {},
   "outputs": [],
   "source": []
  }
 ],
 "metadata": {
  "kernelspec": {
   "display_name": "Python 3 (ipykernel)",
   "language": "python",
   "name": "python3"
  },
  "language_info": {
   "codemirror_mode": {
    "name": "ipython",
    "version": 3
   },
   "file_extension": ".py",
   "mimetype": "text/x-python",
   "name": "python",
   "nbconvert_exporter": "python",
   "pygments_lexer": "ipython3",
   "version": "3.9.0"
  }
 },
 "nbformat": 4,
 "nbformat_minor": 5
}
